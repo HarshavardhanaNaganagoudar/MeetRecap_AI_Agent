{
  "nbformat": 4,
  "nbformat_minor": 0,
  "metadata": {
    "colab": {
      "provenance": []
    },
    "kernelspec": {
      "name": "python3",
      "display_name": "Python 3"
    },
    "language_info": {
      "name": "python"
    },
    "widgets": {
      "application/vnd.jupyter.widget-state+json": {
        "cc43a4bf09b745e18ee835bf84b38642": {
          "model_module": "@jupyter-widgets/controls",
          "model_name": "HBoxModel",
          "model_module_version": "1.5.0",
          "state": {
            "_dom_classes": [],
            "_model_module": "@jupyter-widgets/controls",
            "_model_module_version": "1.5.0",
            "_model_name": "HBoxModel",
            "_view_count": null,
            "_view_module": "@jupyter-widgets/controls",
            "_view_module_version": "1.5.0",
            "_view_name": "HBoxView",
            "box_style": "",
            "children": [
              "IPY_MODEL_eb4902b446f142c684c53764ad330436",
              "IPY_MODEL_4b24e024be98427a83ea0b7a4f4584e8",
              "IPY_MODEL_a32f67ac1c6642508101f1f839893e7b"
            ],
            "layout": "IPY_MODEL_de6289d2a2c942ef9935e9520716180f"
          }
        },
        "eb4902b446f142c684c53764ad330436": {
          "model_module": "@jupyter-widgets/controls",
          "model_name": "HTMLModel",
          "model_module_version": "1.5.0",
          "state": {
            "_dom_classes": [],
            "_model_module": "@jupyter-widgets/controls",
            "_model_module_version": "1.5.0",
            "_model_name": "HTMLModel",
            "_view_count": null,
            "_view_module": "@jupyter-widgets/controls",
            "_view_module_version": "1.5.0",
            "_view_name": "HTMLView",
            "description": "",
            "description_tooltip": null,
            "layout": "IPY_MODEL_1494d694484e43eabc8c7e0208bcd6a5",
            "placeholder": "​",
            "style": "IPY_MODEL_9454b364be12478caea13bfc0ba282e0",
            "value": "tokenizer.json: 100%"
          }
        },
        "4b24e024be98427a83ea0b7a4f4584e8": {
          "model_module": "@jupyter-widgets/controls",
          "model_name": "FloatProgressModel",
          "model_module_version": "1.5.0",
          "state": {
            "_dom_classes": [],
            "_model_module": "@jupyter-widgets/controls",
            "_model_module_version": "1.5.0",
            "_model_name": "FloatProgressModel",
            "_view_count": null,
            "_view_module": "@jupyter-widgets/controls",
            "_view_module_version": "1.5.0",
            "_view_name": "ProgressView",
            "bar_style": "success",
            "description": "",
            "description_tooltip": null,
            "layout": "IPY_MODEL_1b0302d6f6d143d99930737b49206f82",
            "max": 2203239,
            "min": 0,
            "orientation": "horizontal",
            "style": "IPY_MODEL_51cb371091c745e3978d8be7032bf432",
            "value": 2203239
          }
        },
        "a32f67ac1c6642508101f1f839893e7b": {
          "model_module": "@jupyter-widgets/controls",
          "model_name": "HTMLModel",
          "model_module_version": "1.5.0",
          "state": {
            "_dom_classes": [],
            "_model_module": "@jupyter-widgets/controls",
            "_model_module_version": "1.5.0",
            "_model_name": "HTMLModel",
            "_view_count": null,
            "_view_module": "@jupyter-widgets/controls",
            "_view_module_version": "1.5.0",
            "_view_name": "HTMLView",
            "description": "",
            "description_tooltip": null,
            "layout": "IPY_MODEL_93d4a6bc4e794b849592dac174017a12",
            "placeholder": "​",
            "style": "IPY_MODEL_97addc50d90c4fcc8cde623dc82feaa7",
            "value": " 2.20M/2.20M [00:00&lt;00:00, 7.75MB/s]"
          }
        },
        "de6289d2a2c942ef9935e9520716180f": {
          "model_module": "@jupyter-widgets/base",
          "model_name": "LayoutModel",
          "model_module_version": "1.2.0",
          "state": {
            "_model_module": "@jupyter-widgets/base",
            "_model_module_version": "1.2.0",
            "_model_name": "LayoutModel",
            "_view_count": null,
            "_view_module": "@jupyter-widgets/base",
            "_view_module_version": "1.2.0",
            "_view_name": "LayoutView",
            "align_content": null,
            "align_items": null,
            "align_self": null,
            "border": null,
            "bottom": null,
            "display": null,
            "flex": null,
            "flex_flow": null,
            "grid_area": null,
            "grid_auto_columns": null,
            "grid_auto_flow": null,
            "grid_auto_rows": null,
            "grid_column": null,
            "grid_gap": null,
            "grid_row": null,
            "grid_template_areas": null,
            "grid_template_columns": null,
            "grid_template_rows": null,
            "height": null,
            "justify_content": null,
            "justify_items": null,
            "left": null,
            "margin": null,
            "max_height": null,
            "max_width": null,
            "min_height": null,
            "min_width": null,
            "object_fit": null,
            "object_position": null,
            "order": null,
            "overflow": null,
            "overflow_x": null,
            "overflow_y": null,
            "padding": null,
            "right": null,
            "top": null,
            "visibility": null,
            "width": null
          }
        },
        "1494d694484e43eabc8c7e0208bcd6a5": {
          "model_module": "@jupyter-widgets/base",
          "model_name": "LayoutModel",
          "model_module_version": "1.2.0",
          "state": {
            "_model_module": "@jupyter-widgets/base",
            "_model_module_version": "1.2.0",
            "_model_name": "LayoutModel",
            "_view_count": null,
            "_view_module": "@jupyter-widgets/base",
            "_view_module_version": "1.2.0",
            "_view_name": "LayoutView",
            "align_content": null,
            "align_items": null,
            "align_self": null,
            "border": null,
            "bottom": null,
            "display": null,
            "flex": null,
            "flex_flow": null,
            "grid_area": null,
            "grid_auto_columns": null,
            "grid_auto_flow": null,
            "grid_auto_rows": null,
            "grid_column": null,
            "grid_gap": null,
            "grid_row": null,
            "grid_template_areas": null,
            "grid_template_columns": null,
            "grid_template_rows": null,
            "height": null,
            "justify_content": null,
            "justify_items": null,
            "left": null,
            "margin": null,
            "max_height": null,
            "max_width": null,
            "min_height": null,
            "min_width": null,
            "object_fit": null,
            "object_position": null,
            "order": null,
            "overflow": null,
            "overflow_x": null,
            "overflow_y": null,
            "padding": null,
            "right": null,
            "top": null,
            "visibility": null,
            "width": null
          }
        },
        "9454b364be12478caea13bfc0ba282e0": {
          "model_module": "@jupyter-widgets/controls",
          "model_name": "DescriptionStyleModel",
          "model_module_version": "1.5.0",
          "state": {
            "_model_module": "@jupyter-widgets/controls",
            "_model_module_version": "1.5.0",
            "_model_name": "DescriptionStyleModel",
            "_view_count": null,
            "_view_module": "@jupyter-widgets/base",
            "_view_module_version": "1.2.0",
            "_view_name": "StyleView",
            "description_width": ""
          }
        },
        "1b0302d6f6d143d99930737b49206f82": {
          "model_module": "@jupyter-widgets/base",
          "model_name": "LayoutModel",
          "model_module_version": "1.2.0",
          "state": {
            "_model_module": "@jupyter-widgets/base",
            "_model_module_version": "1.2.0",
            "_model_name": "LayoutModel",
            "_view_count": null,
            "_view_module": "@jupyter-widgets/base",
            "_view_module_version": "1.2.0",
            "_view_name": "LayoutView",
            "align_content": null,
            "align_items": null,
            "align_self": null,
            "border": null,
            "bottom": null,
            "display": null,
            "flex": null,
            "flex_flow": null,
            "grid_area": null,
            "grid_auto_columns": null,
            "grid_auto_flow": null,
            "grid_auto_rows": null,
            "grid_column": null,
            "grid_gap": null,
            "grid_row": null,
            "grid_template_areas": null,
            "grid_template_columns": null,
            "grid_template_rows": null,
            "height": null,
            "justify_content": null,
            "justify_items": null,
            "left": null,
            "margin": null,
            "max_height": null,
            "max_width": null,
            "min_height": null,
            "min_width": null,
            "object_fit": null,
            "object_position": null,
            "order": null,
            "overflow": null,
            "overflow_x": null,
            "overflow_y": null,
            "padding": null,
            "right": null,
            "top": null,
            "visibility": null,
            "width": null
          }
        },
        "51cb371091c745e3978d8be7032bf432": {
          "model_module": "@jupyter-widgets/controls",
          "model_name": "ProgressStyleModel",
          "model_module_version": "1.5.0",
          "state": {
            "_model_module": "@jupyter-widgets/controls",
            "_model_module_version": "1.5.0",
            "_model_name": "ProgressStyleModel",
            "_view_count": null,
            "_view_module": "@jupyter-widgets/base",
            "_view_module_version": "1.2.0",
            "_view_name": "StyleView",
            "bar_color": null,
            "description_width": ""
          }
        },
        "93d4a6bc4e794b849592dac174017a12": {
          "model_module": "@jupyter-widgets/base",
          "model_name": "LayoutModel",
          "model_module_version": "1.2.0",
          "state": {
            "_model_module": "@jupyter-widgets/base",
            "_model_module_version": "1.2.0",
            "_model_name": "LayoutModel",
            "_view_count": null,
            "_view_module": "@jupyter-widgets/base",
            "_view_module_version": "1.2.0",
            "_view_name": "LayoutView",
            "align_content": null,
            "align_items": null,
            "align_self": null,
            "border": null,
            "bottom": null,
            "display": null,
            "flex": null,
            "flex_flow": null,
            "grid_area": null,
            "grid_auto_columns": null,
            "grid_auto_flow": null,
            "grid_auto_rows": null,
            "grid_column": null,
            "grid_gap": null,
            "grid_row": null,
            "grid_template_areas": null,
            "grid_template_columns": null,
            "grid_template_rows": null,
            "height": null,
            "justify_content": null,
            "justify_items": null,
            "left": null,
            "margin": null,
            "max_height": null,
            "max_width": null,
            "min_height": null,
            "min_width": null,
            "object_fit": null,
            "object_position": null,
            "order": null,
            "overflow": null,
            "overflow_x": null,
            "overflow_y": null,
            "padding": null,
            "right": null,
            "top": null,
            "visibility": null,
            "width": null
          }
        },
        "97addc50d90c4fcc8cde623dc82feaa7": {
          "model_module": "@jupyter-widgets/controls",
          "model_name": "DescriptionStyleModel",
          "model_module_version": "1.5.0",
          "state": {
            "_model_module": "@jupyter-widgets/controls",
            "_model_module_version": "1.5.0",
            "_model_name": "DescriptionStyleModel",
            "_view_count": null,
            "_view_module": "@jupyter-widgets/base",
            "_view_module_version": "1.2.0",
            "_view_name": "StyleView",
            "description_width": ""
          }
        },
        "a5cf69c22444491a903a436974a0ef2e": {
          "model_module": "@jupyter-widgets/controls",
          "model_name": "HBoxModel",
          "model_module_version": "1.5.0",
          "state": {
            "_dom_classes": [],
            "_model_module": "@jupyter-widgets/controls",
            "_model_module_version": "1.5.0",
            "_model_name": "HBoxModel",
            "_view_count": null,
            "_view_module": "@jupyter-widgets/controls",
            "_view_module_version": "1.5.0",
            "_view_name": "HBoxView",
            "box_style": "",
            "children": [
              "IPY_MODEL_d6b1bfaa29734a1c91956ed97a921aad",
              "IPY_MODEL_7655dc18d7c24e93b2a8eebcf0aa0a44",
              "IPY_MODEL_966ef31a238f4b68ba0f3deb402c52a8"
            ],
            "layout": "IPY_MODEL_5a39d96a672840caa51086feed55ce98"
          }
        },
        "d6b1bfaa29734a1c91956ed97a921aad": {
          "model_module": "@jupyter-widgets/controls",
          "model_name": "HTMLModel",
          "model_module_version": "1.5.0",
          "state": {
            "_dom_classes": [],
            "_model_module": "@jupyter-widgets/controls",
            "_model_module_version": "1.5.0",
            "_model_name": "HTMLModel",
            "_view_count": null,
            "_view_module": "@jupyter-widgets/controls",
            "_view_module_version": "1.5.0",
            "_view_name": "HTMLView",
            "description": "",
            "description_tooltip": null,
            "layout": "IPY_MODEL_00ad2e42c6784ef59e70804b73f3cc6e",
            "placeholder": "​",
            "style": "IPY_MODEL_d2522d992b504567917aba0b92fddd79",
            "value": "config.json: 100%"
          }
        },
        "7655dc18d7c24e93b2a8eebcf0aa0a44": {
          "model_module": "@jupyter-widgets/controls",
          "model_name": "FloatProgressModel",
          "model_module_version": "1.5.0",
          "state": {
            "_dom_classes": [],
            "_model_module": "@jupyter-widgets/controls",
            "_model_module_version": "1.5.0",
            "_model_name": "FloatProgressModel",
            "_view_count": null,
            "_view_module": "@jupyter-widgets/controls",
            "_view_module_version": "1.5.0",
            "_view_name": "ProgressView",
            "bar_style": "success",
            "description": "",
            "description_tooltip": null,
            "layout": "IPY_MODEL_3d51690536f0449eb44da2dc22984d00",
            "max": 2309,
            "min": 0,
            "orientation": "horizontal",
            "style": "IPY_MODEL_d9f7c0a922234bc2b13322d71317554f",
            "value": 2309
          }
        },
        "966ef31a238f4b68ba0f3deb402c52a8": {
          "model_module": "@jupyter-widgets/controls",
          "model_name": "HTMLModel",
          "model_module_version": "1.5.0",
          "state": {
            "_dom_classes": [],
            "_model_module": "@jupyter-widgets/controls",
            "_model_module_version": "1.5.0",
            "_model_name": "HTMLModel",
            "_view_count": null,
            "_view_module": "@jupyter-widgets/controls",
            "_view_module_version": "1.5.0",
            "_view_name": "HTMLView",
            "description": "",
            "description_tooltip": null,
            "layout": "IPY_MODEL_e88be0aea23146dabdc186a54a9bcbe0",
            "placeholder": "​",
            "style": "IPY_MODEL_735356a8adff421396f692338ed4f70e",
            "value": " 2.31k/2.31k [00:00&lt;00:00, 42.8kB/s]"
          }
        },
        "5a39d96a672840caa51086feed55ce98": {
          "model_module": "@jupyter-widgets/base",
          "model_name": "LayoutModel",
          "model_module_version": "1.2.0",
          "state": {
            "_model_module": "@jupyter-widgets/base",
            "_model_module_version": "1.2.0",
            "_model_name": "LayoutModel",
            "_view_count": null,
            "_view_module": "@jupyter-widgets/base",
            "_view_module_version": "1.2.0",
            "_view_name": "LayoutView",
            "align_content": null,
            "align_items": null,
            "align_self": null,
            "border": null,
            "bottom": null,
            "display": null,
            "flex": null,
            "flex_flow": null,
            "grid_area": null,
            "grid_auto_columns": null,
            "grid_auto_flow": null,
            "grid_auto_rows": null,
            "grid_column": null,
            "grid_gap": null,
            "grid_row": null,
            "grid_template_areas": null,
            "grid_template_columns": null,
            "grid_template_rows": null,
            "height": null,
            "justify_content": null,
            "justify_items": null,
            "left": null,
            "margin": null,
            "max_height": null,
            "max_width": null,
            "min_height": null,
            "min_width": null,
            "object_fit": null,
            "object_position": null,
            "order": null,
            "overflow": null,
            "overflow_x": null,
            "overflow_y": null,
            "padding": null,
            "right": null,
            "top": null,
            "visibility": null,
            "width": null
          }
        },
        "00ad2e42c6784ef59e70804b73f3cc6e": {
          "model_module": "@jupyter-widgets/base",
          "model_name": "LayoutModel",
          "model_module_version": "1.2.0",
          "state": {
            "_model_module": "@jupyter-widgets/base",
            "_model_module_version": "1.2.0",
            "_model_name": "LayoutModel",
            "_view_count": null,
            "_view_module": "@jupyter-widgets/base",
            "_view_module_version": "1.2.0",
            "_view_name": "LayoutView",
            "align_content": null,
            "align_items": null,
            "align_self": null,
            "border": null,
            "bottom": null,
            "display": null,
            "flex": null,
            "flex_flow": null,
            "grid_area": null,
            "grid_auto_columns": null,
            "grid_auto_flow": null,
            "grid_auto_rows": null,
            "grid_column": null,
            "grid_gap": null,
            "grid_row": null,
            "grid_template_areas": null,
            "grid_template_columns": null,
            "grid_template_rows": null,
            "height": null,
            "justify_content": null,
            "justify_items": null,
            "left": null,
            "margin": null,
            "max_height": null,
            "max_width": null,
            "min_height": null,
            "min_width": null,
            "object_fit": null,
            "object_position": null,
            "order": null,
            "overflow": null,
            "overflow_x": null,
            "overflow_y": null,
            "padding": null,
            "right": null,
            "top": null,
            "visibility": null,
            "width": null
          }
        },
        "d2522d992b504567917aba0b92fddd79": {
          "model_module": "@jupyter-widgets/controls",
          "model_name": "DescriptionStyleModel",
          "model_module_version": "1.5.0",
          "state": {
            "_model_module": "@jupyter-widgets/controls",
            "_model_module_version": "1.5.0",
            "_model_name": "DescriptionStyleModel",
            "_view_count": null,
            "_view_module": "@jupyter-widgets/base",
            "_view_module_version": "1.2.0",
            "_view_name": "StyleView",
            "description_width": ""
          }
        },
        "3d51690536f0449eb44da2dc22984d00": {
          "model_module": "@jupyter-widgets/base",
          "model_name": "LayoutModel",
          "model_module_version": "1.2.0",
          "state": {
            "_model_module": "@jupyter-widgets/base",
            "_model_module_version": "1.2.0",
            "_model_name": "LayoutModel",
            "_view_count": null,
            "_view_module": "@jupyter-widgets/base",
            "_view_module_version": "1.2.0",
            "_view_name": "LayoutView",
            "align_content": null,
            "align_items": null,
            "align_self": null,
            "border": null,
            "bottom": null,
            "display": null,
            "flex": null,
            "flex_flow": null,
            "grid_area": null,
            "grid_auto_columns": null,
            "grid_auto_flow": null,
            "grid_auto_rows": null,
            "grid_column": null,
            "grid_gap": null,
            "grid_row": null,
            "grid_template_areas": null,
            "grid_template_columns": null,
            "grid_template_rows": null,
            "height": null,
            "justify_content": null,
            "justify_items": null,
            "left": null,
            "margin": null,
            "max_height": null,
            "max_width": null,
            "min_height": null,
            "min_width": null,
            "object_fit": null,
            "object_position": null,
            "order": null,
            "overflow": null,
            "overflow_x": null,
            "overflow_y": null,
            "padding": null,
            "right": null,
            "top": null,
            "visibility": null,
            "width": null
          }
        },
        "d9f7c0a922234bc2b13322d71317554f": {
          "model_module": "@jupyter-widgets/controls",
          "model_name": "ProgressStyleModel",
          "model_module_version": "1.5.0",
          "state": {
            "_model_module": "@jupyter-widgets/controls",
            "_model_module_version": "1.5.0",
            "_model_name": "ProgressStyleModel",
            "_view_count": null,
            "_view_module": "@jupyter-widgets/base",
            "_view_module_version": "1.2.0",
            "_view_name": "StyleView",
            "bar_color": null,
            "description_width": ""
          }
        },
        "e88be0aea23146dabdc186a54a9bcbe0": {
          "model_module": "@jupyter-widgets/base",
          "model_name": "LayoutModel",
          "model_module_version": "1.2.0",
          "state": {
            "_model_module": "@jupyter-widgets/base",
            "_model_module_version": "1.2.0",
            "_model_name": "LayoutModel",
            "_view_count": null,
            "_view_module": "@jupyter-widgets/base",
            "_view_module_version": "1.2.0",
            "_view_name": "LayoutView",
            "align_content": null,
            "align_items": null,
            "align_self": null,
            "border": null,
            "bottom": null,
            "display": null,
            "flex": null,
            "flex_flow": null,
            "grid_area": null,
            "grid_auto_columns": null,
            "grid_auto_flow": null,
            "grid_auto_rows": null,
            "grid_column": null,
            "grid_gap": null,
            "grid_row": null,
            "grid_template_areas": null,
            "grid_template_columns": null,
            "grid_template_rows": null,
            "height": null,
            "justify_content": null,
            "justify_items": null,
            "left": null,
            "margin": null,
            "max_height": null,
            "max_width": null,
            "min_height": null,
            "min_width": null,
            "object_fit": null,
            "object_position": null,
            "order": null,
            "overflow": null,
            "overflow_x": null,
            "overflow_y": null,
            "padding": null,
            "right": null,
            "top": null,
            "visibility": null,
            "width": null
          }
        },
        "735356a8adff421396f692338ed4f70e": {
          "model_module": "@jupyter-widgets/controls",
          "model_name": "DescriptionStyleModel",
          "model_module_version": "1.5.0",
          "state": {
            "_model_module": "@jupyter-widgets/controls",
            "_model_module_version": "1.5.0",
            "_model_name": "DescriptionStyleModel",
            "_view_count": null,
            "_view_module": "@jupyter-widgets/base",
            "_view_module_version": "1.2.0",
            "_view_name": "StyleView",
            "description_width": ""
          }
        },
        "cd269ca3af2e4e498f5e8dc3ec73eb77": {
          "model_module": "@jupyter-widgets/controls",
          "model_name": "HBoxModel",
          "model_module_version": "1.5.0",
          "state": {
            "_dom_classes": [],
            "_model_module": "@jupyter-widgets/controls",
            "_model_module_version": "1.5.0",
            "_model_name": "HBoxModel",
            "_view_count": null,
            "_view_module": "@jupyter-widgets/controls",
            "_view_module_version": "1.5.0",
            "_view_name": "HBoxView",
            "box_style": "",
            "children": [
              "IPY_MODEL_ed08c6c1353641858d35a0becc25b197",
              "IPY_MODEL_35887218f1f9406b92c8d3f471df377a",
              "IPY_MODEL_b13b5099c52f4d20a31c25c8092b3cb0"
            ],
            "layout": "IPY_MODEL_13f6aaca099c4abea67ed46101ea3557"
          }
        },
        "ed08c6c1353641858d35a0becc25b197": {
          "model_module": "@jupyter-widgets/controls",
          "model_name": "HTMLModel",
          "model_module_version": "1.5.0",
          "state": {
            "_dom_classes": [],
            "_model_module": "@jupyter-widgets/controls",
            "_model_module_version": "1.5.0",
            "_model_name": "HTMLModel",
            "_view_count": null,
            "_view_module": "@jupyter-widgets/controls",
            "_view_module_version": "1.5.0",
            "_view_name": "HTMLView",
            "description": "",
            "description_tooltip": null,
            "layout": "IPY_MODEL_4116fdf60dcd4e7d8264ca95e1b367a8",
            "placeholder": "​",
            "style": "IPY_MODEL_5bc0906a4cb14bad8982c011bb77492b",
            "value": "vocabulary.txt: 100%"
          }
        },
        "35887218f1f9406b92c8d3f471df377a": {
          "model_module": "@jupyter-widgets/controls",
          "model_name": "FloatProgressModel",
          "model_module_version": "1.5.0",
          "state": {
            "_dom_classes": [],
            "_model_module": "@jupyter-widgets/controls",
            "_model_module_version": "1.5.0",
            "_model_name": "FloatProgressModel",
            "_view_count": null,
            "_view_module": "@jupyter-widgets/controls",
            "_view_module_version": "1.5.0",
            "_view_name": "ProgressView",
            "bar_style": "success",
            "description": "",
            "description_tooltip": null,
            "layout": "IPY_MODEL_acecf102a5784c30814c97a6c5e47a84",
            "max": 459861,
            "min": 0,
            "orientation": "horizontal",
            "style": "IPY_MODEL_6866f972c9b34a4494a7d98f7476ce5a",
            "value": 459861
          }
        },
        "b13b5099c52f4d20a31c25c8092b3cb0": {
          "model_module": "@jupyter-widgets/controls",
          "model_name": "HTMLModel",
          "model_module_version": "1.5.0",
          "state": {
            "_dom_classes": [],
            "_model_module": "@jupyter-widgets/controls",
            "_model_module_version": "1.5.0",
            "_model_name": "HTMLModel",
            "_view_count": null,
            "_view_module": "@jupyter-widgets/controls",
            "_view_module_version": "1.5.0",
            "_view_name": "HTMLView",
            "description": "",
            "description_tooltip": null,
            "layout": "IPY_MODEL_3984e9f1c9e24902a1e6140e6872c8dd",
            "placeholder": "​",
            "style": "IPY_MODEL_b52f462aa1b74d2ba9f8c4204feb5bed",
            "value": " 460k/460k [00:00&lt;00:00, 3.28MB/s]"
          }
        },
        "13f6aaca099c4abea67ed46101ea3557": {
          "model_module": "@jupyter-widgets/base",
          "model_name": "LayoutModel",
          "model_module_version": "1.2.0",
          "state": {
            "_model_module": "@jupyter-widgets/base",
            "_model_module_version": "1.2.0",
            "_model_name": "LayoutModel",
            "_view_count": null,
            "_view_module": "@jupyter-widgets/base",
            "_view_module_version": "1.2.0",
            "_view_name": "LayoutView",
            "align_content": null,
            "align_items": null,
            "align_self": null,
            "border": null,
            "bottom": null,
            "display": null,
            "flex": null,
            "flex_flow": null,
            "grid_area": null,
            "grid_auto_columns": null,
            "grid_auto_flow": null,
            "grid_auto_rows": null,
            "grid_column": null,
            "grid_gap": null,
            "grid_row": null,
            "grid_template_areas": null,
            "grid_template_columns": null,
            "grid_template_rows": null,
            "height": null,
            "justify_content": null,
            "justify_items": null,
            "left": null,
            "margin": null,
            "max_height": null,
            "max_width": null,
            "min_height": null,
            "min_width": null,
            "object_fit": null,
            "object_position": null,
            "order": null,
            "overflow": null,
            "overflow_x": null,
            "overflow_y": null,
            "padding": null,
            "right": null,
            "top": null,
            "visibility": null,
            "width": null
          }
        },
        "4116fdf60dcd4e7d8264ca95e1b367a8": {
          "model_module": "@jupyter-widgets/base",
          "model_name": "LayoutModel",
          "model_module_version": "1.2.0",
          "state": {
            "_model_module": "@jupyter-widgets/base",
            "_model_module_version": "1.2.0",
            "_model_name": "LayoutModel",
            "_view_count": null,
            "_view_module": "@jupyter-widgets/base",
            "_view_module_version": "1.2.0",
            "_view_name": "LayoutView",
            "align_content": null,
            "align_items": null,
            "align_self": null,
            "border": null,
            "bottom": null,
            "display": null,
            "flex": null,
            "flex_flow": null,
            "grid_area": null,
            "grid_auto_columns": null,
            "grid_auto_flow": null,
            "grid_auto_rows": null,
            "grid_column": null,
            "grid_gap": null,
            "grid_row": null,
            "grid_template_areas": null,
            "grid_template_columns": null,
            "grid_template_rows": null,
            "height": null,
            "justify_content": null,
            "justify_items": null,
            "left": null,
            "margin": null,
            "max_height": null,
            "max_width": null,
            "min_height": null,
            "min_width": null,
            "object_fit": null,
            "object_position": null,
            "order": null,
            "overflow": null,
            "overflow_x": null,
            "overflow_y": null,
            "padding": null,
            "right": null,
            "top": null,
            "visibility": null,
            "width": null
          }
        },
        "5bc0906a4cb14bad8982c011bb77492b": {
          "model_module": "@jupyter-widgets/controls",
          "model_name": "DescriptionStyleModel",
          "model_module_version": "1.5.0",
          "state": {
            "_model_module": "@jupyter-widgets/controls",
            "_model_module_version": "1.5.0",
            "_model_name": "DescriptionStyleModel",
            "_view_count": null,
            "_view_module": "@jupyter-widgets/base",
            "_view_module_version": "1.2.0",
            "_view_name": "StyleView",
            "description_width": ""
          }
        },
        "acecf102a5784c30814c97a6c5e47a84": {
          "model_module": "@jupyter-widgets/base",
          "model_name": "LayoutModel",
          "model_module_version": "1.2.0",
          "state": {
            "_model_module": "@jupyter-widgets/base",
            "_model_module_version": "1.2.0",
            "_model_name": "LayoutModel",
            "_view_count": null,
            "_view_module": "@jupyter-widgets/base",
            "_view_module_version": "1.2.0",
            "_view_name": "LayoutView",
            "align_content": null,
            "align_items": null,
            "align_self": null,
            "border": null,
            "bottom": null,
            "display": null,
            "flex": null,
            "flex_flow": null,
            "grid_area": null,
            "grid_auto_columns": null,
            "grid_auto_flow": null,
            "grid_auto_rows": null,
            "grid_column": null,
            "grid_gap": null,
            "grid_row": null,
            "grid_template_areas": null,
            "grid_template_columns": null,
            "grid_template_rows": null,
            "height": null,
            "justify_content": null,
            "justify_items": null,
            "left": null,
            "margin": null,
            "max_height": null,
            "max_width": null,
            "min_height": null,
            "min_width": null,
            "object_fit": null,
            "object_position": null,
            "order": null,
            "overflow": null,
            "overflow_x": null,
            "overflow_y": null,
            "padding": null,
            "right": null,
            "top": null,
            "visibility": null,
            "width": null
          }
        },
        "6866f972c9b34a4494a7d98f7476ce5a": {
          "model_module": "@jupyter-widgets/controls",
          "model_name": "ProgressStyleModel",
          "model_module_version": "1.5.0",
          "state": {
            "_model_module": "@jupyter-widgets/controls",
            "_model_module_version": "1.5.0",
            "_model_name": "ProgressStyleModel",
            "_view_count": null,
            "_view_module": "@jupyter-widgets/base",
            "_view_module_version": "1.2.0",
            "_view_name": "StyleView",
            "bar_color": null,
            "description_width": ""
          }
        },
        "3984e9f1c9e24902a1e6140e6872c8dd": {
          "model_module": "@jupyter-widgets/base",
          "model_name": "LayoutModel",
          "model_module_version": "1.2.0",
          "state": {
            "_model_module": "@jupyter-widgets/base",
            "_model_module_version": "1.2.0",
            "_model_name": "LayoutModel",
            "_view_count": null,
            "_view_module": "@jupyter-widgets/base",
            "_view_module_version": "1.2.0",
            "_view_name": "LayoutView",
            "align_content": null,
            "align_items": null,
            "align_self": null,
            "border": null,
            "bottom": null,
            "display": null,
            "flex": null,
            "flex_flow": null,
            "grid_area": null,
            "grid_auto_columns": null,
            "grid_auto_flow": null,
            "grid_auto_rows": null,
            "grid_column": null,
            "grid_gap": null,
            "grid_row": null,
            "grid_template_areas": null,
            "grid_template_columns": null,
            "grid_template_rows": null,
            "height": null,
            "justify_content": null,
            "justify_items": null,
            "left": null,
            "margin": null,
            "max_height": null,
            "max_width": null,
            "min_height": null,
            "min_width": null,
            "object_fit": null,
            "object_position": null,
            "order": null,
            "overflow": null,
            "overflow_x": null,
            "overflow_y": null,
            "padding": null,
            "right": null,
            "top": null,
            "visibility": null,
            "width": null
          }
        },
        "b52f462aa1b74d2ba9f8c4204feb5bed": {
          "model_module": "@jupyter-widgets/controls",
          "model_name": "DescriptionStyleModel",
          "model_module_version": "1.5.0",
          "state": {
            "_model_module": "@jupyter-widgets/controls",
            "_model_module_version": "1.5.0",
            "_model_name": "DescriptionStyleModel",
            "_view_count": null,
            "_view_module": "@jupyter-widgets/base",
            "_view_module_version": "1.2.0",
            "_view_name": "StyleView",
            "description_width": ""
          }
        },
        "d358c4a8be2a4868bc49a3a3af13e5d6": {
          "model_module": "@jupyter-widgets/controls",
          "model_name": "HBoxModel",
          "model_module_version": "1.5.0",
          "state": {
            "_dom_classes": [],
            "_model_module": "@jupyter-widgets/controls",
            "_model_module_version": "1.5.0",
            "_model_name": "HBoxModel",
            "_view_count": null,
            "_view_module": "@jupyter-widgets/controls",
            "_view_module_version": "1.5.0",
            "_view_name": "HBoxView",
            "box_style": "",
            "children": [
              "IPY_MODEL_e20e4094254b4781a3beb702ae73fdb2",
              "IPY_MODEL_f888d7021e8d4f9c8732395b9010f489",
              "IPY_MODEL_64b82de4bd1544b0bd36f5eff8c8a82a"
            ],
            "layout": "IPY_MODEL_f122d6d00e4f4899ada8af99adb3b69d"
          }
        },
        "e20e4094254b4781a3beb702ae73fdb2": {
          "model_module": "@jupyter-widgets/controls",
          "model_name": "HTMLModel",
          "model_module_version": "1.5.0",
          "state": {
            "_dom_classes": [],
            "_model_module": "@jupyter-widgets/controls",
            "_model_module_version": "1.5.0",
            "_model_name": "HTMLModel",
            "_view_count": null,
            "_view_module": "@jupyter-widgets/controls",
            "_view_module_version": "1.5.0",
            "_view_name": "HTMLView",
            "description": "",
            "description_tooltip": null,
            "layout": "IPY_MODEL_ff5ecc89190b4a64935fa3e1ac51f148",
            "placeholder": "​",
            "style": "IPY_MODEL_3adf93886b9e404fa28d6d4ccb3dd17b",
            "value": "model.bin: 100%"
          }
        },
        "f888d7021e8d4f9c8732395b9010f489": {
          "model_module": "@jupyter-widgets/controls",
          "model_name": "FloatProgressModel",
          "model_module_version": "1.5.0",
          "state": {
            "_dom_classes": [],
            "_model_module": "@jupyter-widgets/controls",
            "_model_module_version": "1.5.0",
            "_model_name": "FloatProgressModel",
            "_view_count": null,
            "_view_module": "@jupyter-widgets/controls",
            "_view_module_version": "1.5.0",
            "_view_name": "ProgressView",
            "bar_style": "success",
            "description": "",
            "description_tooltip": null,
            "layout": "IPY_MODEL_64127591228140df8864940c5fa40e97",
            "max": 145217532,
            "min": 0,
            "orientation": "horizontal",
            "style": "IPY_MODEL_17263e33eefb46bc90755d9b093c1696",
            "value": 145217532
          }
        },
        "64b82de4bd1544b0bd36f5eff8c8a82a": {
          "model_module": "@jupyter-widgets/controls",
          "model_name": "HTMLModel",
          "model_module_version": "1.5.0",
          "state": {
            "_dom_classes": [],
            "_model_module": "@jupyter-widgets/controls",
            "_model_module_version": "1.5.0",
            "_model_name": "HTMLModel",
            "_view_count": null,
            "_view_module": "@jupyter-widgets/controls",
            "_view_module_version": "1.5.0",
            "_view_name": "HTMLView",
            "description": "",
            "description_tooltip": null,
            "layout": "IPY_MODEL_57243fb632ba49ee870f4e87dca90cd7",
            "placeholder": "​",
            "style": "IPY_MODEL_f0af6df7155b4fa5828a38da620d2fe2",
            "value": " 145M/145M [00:00&lt;00:00, 206MB/s]"
          }
        },
        "f122d6d00e4f4899ada8af99adb3b69d": {
          "model_module": "@jupyter-widgets/base",
          "model_name": "LayoutModel",
          "model_module_version": "1.2.0",
          "state": {
            "_model_module": "@jupyter-widgets/base",
            "_model_module_version": "1.2.0",
            "_model_name": "LayoutModel",
            "_view_count": null,
            "_view_module": "@jupyter-widgets/base",
            "_view_module_version": "1.2.0",
            "_view_name": "LayoutView",
            "align_content": null,
            "align_items": null,
            "align_self": null,
            "border": null,
            "bottom": null,
            "display": null,
            "flex": null,
            "flex_flow": null,
            "grid_area": null,
            "grid_auto_columns": null,
            "grid_auto_flow": null,
            "grid_auto_rows": null,
            "grid_column": null,
            "grid_gap": null,
            "grid_row": null,
            "grid_template_areas": null,
            "grid_template_columns": null,
            "grid_template_rows": null,
            "height": null,
            "justify_content": null,
            "justify_items": null,
            "left": null,
            "margin": null,
            "max_height": null,
            "max_width": null,
            "min_height": null,
            "min_width": null,
            "object_fit": null,
            "object_position": null,
            "order": null,
            "overflow": null,
            "overflow_x": null,
            "overflow_y": null,
            "padding": null,
            "right": null,
            "top": null,
            "visibility": null,
            "width": null
          }
        },
        "ff5ecc89190b4a64935fa3e1ac51f148": {
          "model_module": "@jupyter-widgets/base",
          "model_name": "LayoutModel",
          "model_module_version": "1.2.0",
          "state": {
            "_model_module": "@jupyter-widgets/base",
            "_model_module_version": "1.2.0",
            "_model_name": "LayoutModel",
            "_view_count": null,
            "_view_module": "@jupyter-widgets/base",
            "_view_module_version": "1.2.0",
            "_view_name": "LayoutView",
            "align_content": null,
            "align_items": null,
            "align_self": null,
            "border": null,
            "bottom": null,
            "display": null,
            "flex": null,
            "flex_flow": null,
            "grid_area": null,
            "grid_auto_columns": null,
            "grid_auto_flow": null,
            "grid_auto_rows": null,
            "grid_column": null,
            "grid_gap": null,
            "grid_row": null,
            "grid_template_areas": null,
            "grid_template_columns": null,
            "grid_template_rows": null,
            "height": null,
            "justify_content": null,
            "justify_items": null,
            "left": null,
            "margin": null,
            "max_height": null,
            "max_width": null,
            "min_height": null,
            "min_width": null,
            "object_fit": null,
            "object_position": null,
            "order": null,
            "overflow": null,
            "overflow_x": null,
            "overflow_y": null,
            "padding": null,
            "right": null,
            "top": null,
            "visibility": null,
            "width": null
          }
        },
        "3adf93886b9e404fa28d6d4ccb3dd17b": {
          "model_module": "@jupyter-widgets/controls",
          "model_name": "DescriptionStyleModel",
          "model_module_version": "1.5.0",
          "state": {
            "_model_module": "@jupyter-widgets/controls",
            "_model_module_version": "1.5.0",
            "_model_name": "DescriptionStyleModel",
            "_view_count": null,
            "_view_module": "@jupyter-widgets/base",
            "_view_module_version": "1.2.0",
            "_view_name": "StyleView",
            "description_width": ""
          }
        },
        "64127591228140df8864940c5fa40e97": {
          "model_module": "@jupyter-widgets/base",
          "model_name": "LayoutModel",
          "model_module_version": "1.2.0",
          "state": {
            "_model_module": "@jupyter-widgets/base",
            "_model_module_version": "1.2.0",
            "_model_name": "LayoutModel",
            "_view_count": null,
            "_view_module": "@jupyter-widgets/base",
            "_view_module_version": "1.2.0",
            "_view_name": "LayoutView",
            "align_content": null,
            "align_items": null,
            "align_self": null,
            "border": null,
            "bottom": null,
            "display": null,
            "flex": null,
            "flex_flow": null,
            "grid_area": null,
            "grid_auto_columns": null,
            "grid_auto_flow": null,
            "grid_auto_rows": null,
            "grid_column": null,
            "grid_gap": null,
            "grid_row": null,
            "grid_template_areas": null,
            "grid_template_columns": null,
            "grid_template_rows": null,
            "height": null,
            "justify_content": null,
            "justify_items": null,
            "left": null,
            "margin": null,
            "max_height": null,
            "max_width": null,
            "min_height": null,
            "min_width": null,
            "object_fit": null,
            "object_position": null,
            "order": null,
            "overflow": null,
            "overflow_x": null,
            "overflow_y": null,
            "padding": null,
            "right": null,
            "top": null,
            "visibility": null,
            "width": null
          }
        },
        "17263e33eefb46bc90755d9b093c1696": {
          "model_module": "@jupyter-widgets/controls",
          "model_name": "ProgressStyleModel",
          "model_module_version": "1.5.0",
          "state": {
            "_model_module": "@jupyter-widgets/controls",
            "_model_module_version": "1.5.0",
            "_model_name": "ProgressStyleModel",
            "_view_count": null,
            "_view_module": "@jupyter-widgets/base",
            "_view_module_version": "1.2.0",
            "_view_name": "StyleView",
            "bar_color": null,
            "description_width": ""
          }
        },
        "57243fb632ba49ee870f4e87dca90cd7": {
          "model_module": "@jupyter-widgets/base",
          "model_name": "LayoutModel",
          "model_module_version": "1.2.0",
          "state": {
            "_model_module": "@jupyter-widgets/base",
            "_model_module_version": "1.2.0",
            "_model_name": "LayoutModel",
            "_view_count": null,
            "_view_module": "@jupyter-widgets/base",
            "_view_module_version": "1.2.0",
            "_view_name": "LayoutView",
            "align_content": null,
            "align_items": null,
            "align_self": null,
            "border": null,
            "bottom": null,
            "display": null,
            "flex": null,
            "flex_flow": null,
            "grid_area": null,
            "grid_auto_columns": null,
            "grid_auto_flow": null,
            "grid_auto_rows": null,
            "grid_column": null,
            "grid_gap": null,
            "grid_row": null,
            "grid_template_areas": null,
            "grid_template_columns": null,
            "grid_template_rows": null,
            "height": null,
            "justify_content": null,
            "justify_items": null,
            "left": null,
            "margin": null,
            "max_height": null,
            "max_width": null,
            "min_height": null,
            "min_width": null,
            "object_fit": null,
            "object_position": null,
            "order": null,
            "overflow": null,
            "overflow_x": null,
            "overflow_y": null,
            "padding": null,
            "right": null,
            "top": null,
            "visibility": null,
            "width": null
          }
        },
        "f0af6df7155b4fa5828a38da620d2fe2": {
          "model_module": "@jupyter-widgets/controls",
          "model_name": "DescriptionStyleModel",
          "model_module_version": "1.5.0",
          "state": {
            "_model_module": "@jupyter-widgets/controls",
            "_model_module_version": "1.5.0",
            "_model_name": "DescriptionStyleModel",
            "_view_count": null,
            "_view_module": "@jupyter-widgets/base",
            "_view_module_version": "1.2.0",
            "_view_name": "StyleView",
            "description_width": ""
          }
        }
      }
    }
  },
  "cells": [
    {
      "cell_type": "markdown",
      "source": [
        "**Goal**: To build an AI agent with LangGraph framework that takes a meeting audio file as input and returns a structured summary i.e Attendees, Key Discussion Points, Action Items, Decisions Made.\n",
        "* *Note: Uploaded file should be `.wav` and currently supports only english language*\n",
        "\n"
      ],
      "metadata": {
        "id": "jMbLH1cI9fh1"
      }
    },
    {
      "cell_type": "markdown",
      "source": [
        "**Install packages**"
      ],
      "metadata": {
        "id": "N9VXFr-yDApE"
      }
    },
    {
      "cell_type": "code",
      "execution_count": 1,
      "metadata": {
        "colab": {
          "base_uri": "https://localhost:8080/"
        },
        "id": "rpG3aAIcx-0n",
        "outputId": "18d5ad5f-9af9-4953-c5ce-aeaba01377e7"
      },
      "outputs": [
        {
          "output_type": "stream",
          "name": "stdout",
          "text": [
            "\u001b[2K     \u001b[90m━━━━━━━━━━━━━━━━━━━━━━━━━━━━━━━━━━━━━━━━\u001b[0m \u001b[32m43.5/43.5 kB\u001b[0m \u001b[31m2.3 MB/s\u001b[0m eta \u001b[36m0:00:00\u001b[0m\n",
            "\u001b[2K   \u001b[90m━━━━━━━━━━━━━━━━━━━━━━━━━━━━━━━━━━━━━━━━\u001b[0m \u001b[32m145.2/145.2 kB\u001b[0m \u001b[31m10.2 MB/s\u001b[0m eta \u001b[36m0:00:00\u001b[0m\n",
            "\u001b[2K   \u001b[90m━━━━━━━━━━━━━━━━━━━━━━━━━━━━━━━━━━━━━━━━\u001b[0m \u001b[32m301.5/301.5 kB\u001b[0m \u001b[31m16.5 MB/s\u001b[0m eta \u001b[36m0:00:00\u001b[0m\n",
            "\u001b[2K   \u001b[90m━━━━━━━━━━━━━━━━━━━━━━━━━━━━━━━━━━━━━━━━\u001b[0m \u001b[32m46.9/46.9 MB\u001b[0m \u001b[31m17.4 MB/s\u001b[0m eta \u001b[36m0:00:00\u001b[0m\n",
            "\u001b[2K   \u001b[90m━━━━━━━━━━━━━━━━━━━━━━━━━━━━━━━━━━━━━━━━\u001b[0m \u001b[32m322.2/322.2 kB\u001b[0m \u001b[31m20.8 MB/s\u001b[0m eta \u001b[36m0:00:00\u001b[0m\n",
            "\u001b[2K   \u001b[90m━━━━━━━━━━━━━━━━━━━━━━━━━━━━━━━━━━━━━━━━\u001b[0m \u001b[32m95.2/95.2 kB\u001b[0m \u001b[31m7.6 MB/s\u001b[0m eta \u001b[36m0:00:00\u001b[0m\n",
            "\u001b[2K   \u001b[90m━━━━━━━━━━━━━━━━━━━━━━━━━━━━━━━━━━━━━━━━\u001b[0m \u001b[32m42.0/42.0 kB\u001b[0m \u001b[31m2.9 MB/s\u001b[0m eta \u001b[36m0:00:00\u001b[0m\n",
            "\u001b[2K   \u001b[90m━━━━━━━━━━━━━━━━━━━━━━━━━━━━━━━━━━━━━━━━\u001b[0m \u001b[32m47.2/47.2 kB\u001b[0m \u001b[31m3.7 MB/s\u001b[0m eta \u001b[36m0:00:00\u001b[0m\n",
            "\u001b[2K   \u001b[90m━━━━━━━━━━━━━━━━━━━━━━━━━━━━━━━━━━━━━━━━\u001b[0m \u001b[32m11.5/11.5 MB\u001b[0m \u001b[31m63.8 MB/s\u001b[0m eta \u001b[36m0:00:00\u001b[0m\n",
            "\u001b[2K   \u001b[90m━━━━━━━━━━━━━━━━━━━━━━━━━━━━━━━━━━━━━━━━\u001b[0m \u001b[32m72.0/72.0 kB\u001b[0m \u001b[31m5.5 MB/s\u001b[0m eta \u001b[36m0:00:00\u001b[0m\n",
            "\u001b[2K   \u001b[90m━━━━━━━━━━━━━━━━━━━━━━━━━━━━━━━━━━━━━━━━\u001b[0m \u001b[32m62.5/62.5 kB\u001b[0m \u001b[31m5.9 MB/s\u001b[0m eta \u001b[36m0:00:00\u001b[0m\n",
            "\u001b[2K   \u001b[90m━━━━━━━━━━━━━━━━━━━━━━━━━━━━━━━━━━━━━━━━\u001b[0m \u001b[32m194.8/194.8 kB\u001b[0m \u001b[31m11.6 MB/s\u001b[0m eta \u001b[36m0:00:00\u001b[0m\n",
            "\u001b[2K   \u001b[90m━━━━━━━━━━━━━━━━━━━━━━━━━━━━━━━━━━━━━━━━\u001b[0m \u001b[32m223.6/223.6 kB\u001b[0m \u001b[31m16.3 MB/s\u001b[0m eta \u001b[36m0:00:00\u001b[0m\n",
            "\u001b[2K   \u001b[90m━━━━━━━━━━━━━━━━━━━━━━━━━━━━━━━━━━━━━━━━\u001b[0m \u001b[32m1.1/1.1 MB\u001b[0m \u001b[31m35.2 MB/s\u001b[0m eta \u001b[36m0:00:00\u001b[0m\n",
            "\u001b[2K   \u001b[90m━━━━━━━━━━━━━━━━━━━━━━━━━━━━━━━━━━━━━━━━\u001b[0m \u001b[32m35.2/35.2 MB\u001b[0m \u001b[31m19.9 MB/s\u001b[0m eta \u001b[36m0:00:00\u001b[0m\n",
            "\u001b[2K   \u001b[90m━━━━━━━━━━━━━━━━━━━━━━━━━━━━━━━━━━━━━━━━\u001b[0m \u001b[32m38.6/38.6 MB\u001b[0m \u001b[31m16.6 MB/s\u001b[0m eta \u001b[36m0:00:00\u001b[0m\n",
            "\u001b[2K   \u001b[90m━━━━━━━━━━━━━━━━━━━━━━━━━━━━━━━━━━━━━━━━\u001b[0m \u001b[32m16.0/16.0 MB\u001b[0m \u001b[31m83.1 MB/s\u001b[0m eta \u001b[36m0:00:00\u001b[0m\n",
            "\u001b[2K   \u001b[90m━━━━━━━━━━━━━━━━━━━━━━━━━━━━━━━━━━━━━━━━\u001b[0m \u001b[32m46.0/46.0 kB\u001b[0m \u001b[31m3.3 MB/s\u001b[0m eta \u001b[36m0:00:00\u001b[0m\n",
            "\u001b[2K   \u001b[90m━━━━━━━━━━━━━━━━━━━━━━━━━━━━━━━━━━━━━━━━\u001b[0m \u001b[32m86.8/86.8 kB\u001b[0m \u001b[31m6.6 MB/s\u001b[0m eta \u001b[36m0:00:00\u001b[0m\n",
            "\u001b[?25h"
          ]
        }
      ],
      "source": [
        "!pip install langgraph langchain mistralai gradio --quiet\n",
        "!pip install faster-whisper --quiet\n"
      ]
    },
    {
      "cell_type": "markdown",
      "source": [
        "**Import packages**"
      ],
      "metadata": {
        "id": "loO45YzKDGhC"
      }
    },
    {
      "cell_type": "code",
      "source": [
        "import json\n",
        "import os\n",
        "import requests\n",
        "from faster_whisper import WhisperModel\n",
        "from typing import TypedDict\n",
        "from langgraph.graph import StateGraph"
      ],
      "metadata": {
        "id": "7c_CFvxfyChY"
      },
      "execution_count": 2,
      "outputs": []
    },
    {
      "cell_type": "markdown",
      "source": [
        "**LLM model used is mistral**"
      ],
      "metadata": {
        "id": "ox5uuMFgDOFR"
      }
    },
    {
      "cell_type": "code",
      "source": [
        "os.environ[\"MISTRAL_API_KEY\"] = \"MISTRAL_API_KEY\""
      ],
      "metadata": {
        "id": "olayDjp4yCkU"
      },
      "execution_count": 15,
      "outputs": []
    },
    {
      "cell_type": "markdown",
      "source": [
        "**Defining the State**"
      ],
      "metadata": {
        "id": "tl8JreaGDYb1"
      }
    },
    {
      "cell_type": "code",
      "source": [
        "class State(TypedDict):\n",
        "    file_path: str\n",
        "    transcript: str\n",
        "    summary_json: dict\n",
        "    final_output: str"
      ],
      "metadata": {
        "id": "3LvpKIVnyCnU"
      },
      "execution_count": 4,
      "outputs": []
    },
    {
      "cell_type": "markdown",
      "source": [
        "**Transcribe the audio**"
      ],
      "metadata": {
        "id": "Jmzr4bOXDe4J"
      }
    },
    {
      "cell_type": "code",
      "source": [
        "def transcribe_audio(state: State) -> State:\n",
        "    model = WhisperModel(\"base\", compute_type=\"float32\")\n",
        "    segments, _ = model.transcribe(state[\"file_path\"], beam_size=5, language=\"en\")\n",
        "\n",
        "    transcript = \" \".join(segment.text.strip() for segment in segments)\n",
        "    return {**state, \"transcript\": transcript}\n"
      ],
      "metadata": {
        "id": "1z2mtMgKyCqR"
      },
      "execution_count": 5,
      "outputs": []
    },
    {
      "cell_type": "markdown",
      "source": [
        "**Summarize the transcript**"
      ],
      "metadata": {
        "id": "-nvhSYWREgAA"
      }
    },
    {
      "cell_type": "code",
      "source": [
        "import requests\n",
        "\n",
        "MISTRAL_API_KEY = os.getenv(\"MISTRAL_API_KEY\")\n",
        "MODEL = \"mistral-large-latest\"\n",
        "\n",
        "def summarize_transcript(state: State) -> State:\n",
        "    prompt = f\"\"\"\n",
        "You are an AI assistant summarizing meeting transcripts.\n",
        "\n",
        "Extract the following:\n",
        "1. Attendees (Names only, if possible)\n",
        "2. Key Discussion Points (bullet format)\n",
        "3. Action Items (with owner and deadline, if mentioned)\n",
        "4. Decisions Made (if any)\n",
        "\n",
        "Respond in this format:\n",
        "{{\n",
        "  \"attendees\": [...],\n",
        "  \"key_points\": [...],\n",
        "  \"action_items\": [...],\n",
        "  \"decisions\": [...]\n",
        "}}\n",
        "\n",
        "Transcript:\n",
        "\\\"\\\"\\\"{state['transcript']}\\\"\\\"\\\"\n",
        "\"\"\"\n",
        "    res = requests.post(\n",
        "        \"https://api.mistral.ai/v1/chat/completions\",\n",
        "        headers={\n",
        "            \"Authorization\": f\"Bearer {MISTRAL_API_KEY}\",\n",
        "            \"Content-Type\": \"application/json\"\n",
        "        },\n",
        "        json={\n",
        "            \"model\": MODEL,\n",
        "            \"messages\": [{\"role\": \"user\", \"content\": prompt}],\n",
        "            \"temperature\": 0.3\n",
        "        }\n",
        "    )\n",
        "    content = res.json()['choices'][0]['message']['content']\n",
        "    return {**state, \"summary_json\": eval(content)}\n"
      ],
      "metadata": {
        "id": "YYjKxptK2LPQ"
      },
      "execution_count": 6,
      "outputs": []
    },
    {
      "cell_type": "markdown",
      "source": [
        "**Format the summary**"
      ],
      "metadata": {
        "id": "uC92yOW3EkTI"
      }
    },
    {
      "cell_type": "code",
      "source": [
        "def format_output(state: State) -> State:\n",
        "    summary = state[\"summary_json\"]\n",
        "    formatted = \"📌 Attendees:\\n\" + \"\\n\".join(f\"- {name}\" for name in summary[\"attendees\"]) + \"\\n\\n\"\n",
        "    formatted += \"💬 Key Points:\\n\" + \"\\n\".join(f\"- {pt}\" for pt in summary[\"key_points\"]) + \"\\n\\n\"\n",
        "    formatted += \"✅ Action Items:\\n\" + \"\\n\".join(f\"- {item}\" for item in summary[\"action_items\"]) + \"\\n\\n\"\n",
        "    formatted += \"📎 Decisions:\\n\" + \"\\n\".join(f\"- {d}\" for d in summary[\"decisions\"])\n",
        "    return {**state, \"final_output\": formatted}\n"
      ],
      "metadata": {
        "id": "VunG_eMZ2LSY"
      },
      "execution_count": 7,
      "outputs": []
    },
    {
      "cell_type": "markdown",
      "source": [
        "**Build the LangGraph nodes and edges**"
      ],
      "metadata": {
        "id": "QiwQF6SwH0zp"
      }
    },
    {
      "cell_type": "code",
      "source": [
        "from langgraph.graph import StateGraph\n",
        "\n",
        "builder = StateGraph(State)\n",
        "builder.add_node(\"transcribe_audio\", transcribe_audio)\n",
        "builder.add_node(\"summarize_transcript\", summarize_transcript)\n",
        "builder.add_node(\"format_output\", format_output)\n",
        "\n",
        "# Link nodes\n",
        "builder.set_entry_point(\"transcribe_audio\")\n",
        "builder.add_edge(\"transcribe_audio\", \"summarize_transcript\")\n",
        "builder.add_edge(\"summarize_transcript\", \"format_output\")\n",
        "\n",
        "graph = builder.compile()\n"
      ],
      "metadata": {
        "id": "1ZUWklkQ2LVX"
      },
      "execution_count": 8,
      "outputs": []
    },
    {
      "cell_type": "markdown",
      "source": [
        "**Visualizing the graph**"
      ],
      "metadata": {
        "id": "V7bTtJe2H52V"
      }
    },
    {
      "cell_type": "code",
      "source": [
        "from IPython.display import Image, display\n",
        "\n",
        "try:\n",
        "    display(Image(graph.get_graph().draw_mermaid_png()))\n",
        "except Exception:\n",
        "    # This requires some extra dependencies and is optional\n",
        "    pass"
      ],
      "metadata": {
        "colab": {
          "base_uri": "https://localhost:8080/",
          "height": 350
        },
        "id": "u7wEL0KZ2LX6",
        "outputId": "07c6f92f-faa1-4832-d8c4-7b6e7e8ec002"
      },
      "execution_count": 9,
      "outputs": [
        {
          "output_type": "display_data",
          "data": {
            "image/png": "[encoded data removed]",
            "text/plain": [
              "<IPython.core.display.Image object>"
            ]
          },
          "metadata": {}
        }
      ]
    },
    {
      "cell_type": "markdown",
      "source": [
        "**Testing the agent and printing the workflow**"
      ],
      "metadata": {
        "id": "39IUjAMTIFDp"
      }
    },
    {
      "cell_type": "code",
      "source": [
        "initial_state = {\n",
        "    \"file_path\": \"/content/Meeting1.wav\"  # Or the actual name you uploaded\n",
        "}\n",
        "\n",
        "final_state = graph.invoke(initial_state)\n",
        "\n",
        "# Show the full structured JSON output\n",
        "from pprint import pprint\n",
        "pprint(final_state[\"summary_json\"])\n",
        "\n",
        "# If you also formatted it into text in `format_output`\n",
        "print(\"\\n--- Final Summary Text ---\\n\")\n",
        "print(final_state.get(\"final_output\", \"No final_output found\"))\n"
      ],
      "metadata": {
        "colab": {
          "base_uri": "https://localhost:8080/",
          "height": 1000,
          "referenced_widgets": [
            "cc43a4bf09b745e18ee835bf84b38642",
            "eb4902b446f142c684c53764ad330436",
            "4b24e024be98427a83ea0b7a4f4584e8",
            "a32f67ac1c6642508101f1f839893e7b",
            "de6289d2a2c942ef9935e9520716180f",
            "1494d694484e43eabc8c7e0208bcd6a5",
            "9454b364be12478caea13bfc0ba282e0",
            "1b0302d6f6d143d99930737b49206f82",
            "51cb371091c745e3978d8be7032bf432",
            "93d4a6bc4e794b849592dac174017a12",
            "97addc50d90c4fcc8cde623dc82feaa7",
            "a5cf69c22444491a903a436974a0ef2e",
            "d6b1bfaa29734a1c91956ed97a921aad",
            "7655dc18d7c24e93b2a8eebcf0aa0a44",
            "966ef31a238f4b68ba0f3deb402c52a8",
            "5a39d96a672840caa51086feed55ce98",
            "00ad2e42c6784ef59e70804b73f3cc6e",
            "d2522d992b504567917aba0b92fddd79",
            "3d51690536f0449eb44da2dc22984d00",
            "d9f7c0a922234bc2b13322d71317554f",
            "e88be0aea23146dabdc186a54a9bcbe0",
            "735356a8adff421396f692338ed4f70e",
            "cd269ca3af2e4e498f5e8dc3ec73eb77",
            "ed08c6c1353641858d35a0becc25b197",
            "35887218f1f9406b92c8d3f471df377a",
            "b13b5099c52f4d20a31c25c8092b3cb0",
            "13f6aaca099c4abea67ed46101ea3557",
            "4116fdf60dcd4e7d8264ca95e1b367a8",
            "5bc0906a4cb14bad8982c011bb77492b",
            "acecf102a5784c30814c97a6c5e47a84",
            "6866f972c9b34a4494a7d98f7476ce5a",
            "3984e9f1c9e24902a1e6140e6872c8dd",
            "b52f462aa1b74d2ba9f8c4204feb5bed",
            "d358c4a8be2a4868bc49a3a3af13e5d6",
            "e20e4094254b4781a3beb702ae73fdb2",
            "f888d7021e8d4f9c8732395b9010f489",
            "64b82de4bd1544b0bd36f5eff8c8a82a",
            "f122d6d00e4f4899ada8af99adb3b69d",
            "ff5ecc89190b4a64935fa3e1ac51f148",
            "3adf93886b9e404fa28d6d4ccb3dd17b",
            "64127591228140df8864940c5fa40e97",
            "17263e33eefb46bc90755d9b093c1696",
            "57243fb632ba49ee870f4e87dca90cd7",
            "f0af6df7155b4fa5828a38da620d2fe2"
          ]
        },
        "id": "e9zSuuZT2ZPI",
        "outputId": "cca95eda-a606-41c4-a812-ae22fe83929e"
      },
      "execution_count": 10,
      "outputs": [
        {
          "output_type": "stream",
          "name": "stderr",
          "text": [
            "/usr/local/lib/python3.11/dist-packages/huggingface_hub/utils/_auth.py:94: UserWarning: \n",
            "The secret `HF_TOKEN` does not exist in your Colab secrets.\n",
            "To authenticate with the Hugging Face Hub, create a token in your settings tab (https://huggingface.co/settings/tokens), set it as secret in your Google Colab and restart your session.\n",
            "You will be able to reuse this secret in all of your notebooks.\n",
            "Please note that authentication is recommended but still optional to access public models or datasets.\n",
            "  warnings.warn(\n",
            "Xet Storage is enabled for this repo, but the 'hf_xet' package is not installed. Falling back to regular HTTP download. For better performance, install the package with: `pip install huggingface_hub[hf_xet]` or `pip install hf_xet`\n",
            "WARNING:huggingface_hub.file_download:Xet Storage is enabled for this repo, but the 'hf_xet' package is not installed. Falling back to regular HTTP download. For better performance, install the package with: `pip install huggingface_hub[hf_xet]` or `pip install hf_xet`\n"
          ]
        },
        {
          "output_type": "display_data",
          "data": {
            "text/plain": [
              "tokenizer.json:   0%|          | 0.00/2.20M [00:00<?, ?B/s]"
            ],
            "application/vnd.jupyter.widget-view+json": {
              "version_major": 2,
              "version_minor": 0,
              "model_id": "cc43a4bf09b745e18ee835bf84b38642"
            }
          },
          "metadata": {}
        },
        {
          "output_type": "display_data",
          "data": {
            "text/plain": [
              "config.json:   0%|          | 0.00/2.31k [00:00<?, ?B/s]"
            ],
            "application/vnd.jupyter.widget-view+json": {
              "version_major": 2,
              "version_minor": 0,
              "model_id": "a5cf69c22444491a903a436974a0ef2e"
            }
          },
          "metadata": {}
        },
        {
          "output_type": "display_data",
          "data": {
            "text/plain": [
              "vocabulary.txt:   0%|          | 0.00/460k [00:00<?, ?B/s]"
            ],
            "application/vnd.jupyter.widget-view+json": {
              "version_major": 2,
              "version_minor": 0,
              "model_id": "cd269ca3af2e4e498f5e8dc3ec73eb77"
            }
          },
          "metadata": {}
        },
        {
          "output_type": "display_data",
          "data": {
            "text/plain": [
              "model.bin:   0%|          | 0.00/145M [00:00<?, ?B/s]"
            ],
            "application/vnd.jupyter.widget-view+json": {
              "version_major": 2,
              "version_minor": 0,
              "model_id": "d358c4a8be2a4868bc49a3a3af13e5d6"
            }
          },
          "metadata": {}
        },
        {
          "output_type": "stream",
          "name": "stdout",
          "text": [
            "{'action_items': [{'deadline': 'Not specified',\n",
            "                   'owner': 'Peter Morgan',\n",
            "                   'task': 'Purchase cheaper option with quality and guarantee '\n",
            "                           'assurance'},\n",
            "                  {'deadline': 'Not specified',\n",
            "                   'owner': 'Mike Reinhardt',\n",
            "                   'task': 'Update on production figures for last quarter'},\n",
            "                  {'deadline': 'Not specified',\n",
            "                   'owner': 'Trudy Finch',\n",
            "                   'task': 'Summarize recent recruitment programme'},\n",
            "                  {'deadline': 'Not specified',\n",
            "                   'owner': 'HR',\n",
            "                   'task': 'Develop a training calendar and communicate to '\n",
            "                           'managers'},\n",
            "                  {'deadline': 'Not specified',\n",
            "                   'owner': 'Peter Morgan',\n",
            "                   'task': 'Take the role of involvement in the charity cycle '\n",
            "                           'ride'}],\n",
            " 'attendees': ['Carol Fletcher',\n",
            "               'Peter Morgan',\n",
            "               'Frank Maffer',\n",
            "               'Mike Reinhardt',\n",
            "               'Trudy Finch'],\n",
            " 'decisions': ['Approval for Peter Morgan to purchase cheaper option with '\n",
            "               'quality and guarantee assurance',\n",
            "               'Decision to review advertising methods based on successful '\n",
            "               'recruitment from radio ads',\n",
            "               'Decision to implement a phased rollout for the Alpha system to '\n",
            "               'check for faults and maintain service levels',\n",
            "               'Decision to develop a training day and train the trainers for '\n",
            "               'the Alpha system',\n",
            "               'Decision to allow 20 minutes per day during lunch breaks for '\n",
            "               'internet usage with clear penalties for misuse'],\n",
            " 'key_points': ['Introduction of new team member Trudy Finch',\n",
            "                'Purchase approval for cheaper option with quality and '\n",
            "                'guarantee assurance',\n",
            "                'Production figures update: up by 2% on product streams 1 and '\n",
            "                '2, down by 0.5% on product stream 3',\n",
            "                'Recruitment programme summary: 10 new hires, 9 completed '\n",
            "                'probation',\n",
            "                'Discussion on Alpha system implementation: phased rollout vs. '\n",
            "                'swift implementation',\n",
            "                'Training programme for Alpha system',\n",
            "                'Internet usage policy during lunch breaks',\n",
            "                'Charity cycle ride involvement']}\n",
            "\n",
            "--- Final Summary Text ---\n",
            "\n",
            "📌 Attendees:\n",
            "- Carol Fletcher\n",
            "- Peter Morgan\n",
            "- Frank Maffer\n",
            "- Mike Reinhardt\n",
            "- Trudy Finch\n",
            "\n",
            "💬 Key Points:\n",
            "- Introduction of new team member Trudy Finch\n",
            "- Purchase approval for cheaper option with quality and guarantee assurance\n",
            "- Production figures update: up by 2% on product streams 1 and 2, down by 0.5% on product stream 3\n",
            "- Recruitment programme summary: 10 new hires, 9 completed probation\n",
            "- Discussion on Alpha system implementation: phased rollout vs. swift implementation\n",
            "- Training programme for Alpha system\n",
            "- Internet usage policy during lunch breaks\n",
            "- Charity cycle ride involvement\n",
            "\n",
            "✅ Action Items:\n",
            "- {'owner': 'Peter Morgan', 'task': 'Purchase cheaper option with quality and guarantee assurance', 'deadline': 'Not specified'}\n",
            "- {'owner': 'Mike Reinhardt', 'task': 'Update on production figures for last quarter', 'deadline': 'Not specified'}\n",
            "- {'owner': 'Trudy Finch', 'task': 'Summarize recent recruitment programme', 'deadline': 'Not specified'}\n",
            "- {'owner': 'HR', 'task': 'Develop a training calendar and communicate to managers', 'deadline': 'Not specified'}\n",
            "- {'owner': 'Peter Morgan', 'task': 'Take the role of involvement in the charity cycle ride', 'deadline': 'Not specified'}\n",
            "\n",
            "📎 Decisions:\n",
            "- Approval for Peter Morgan to purchase cheaper option with quality and guarantee assurance\n",
            "- Decision to review advertising methods based on successful recruitment from radio ads\n",
            "- Decision to implement a phased rollout for the Alpha system to check for faults and maintain service levels\n",
            "- Decision to develop a training day and train the trainers for the Alpha system\n",
            "- Decision to allow 20 minutes per day during lunch breaks for internet usage with clear penalties for misuse\n"
          ]
        }
      ]
    },
    {
      "cell_type": "markdown",
      "source": [
        "**Structured summary**"
      ],
      "metadata": {
        "id": "dLOo9fMKJzXg"
      }
    },
    {
      "cell_type": "code",
      "source": [
        "print(final_state[\"final_output\"])"
      ],
      "metadata": {
        "colab": {
          "base_uri": "https://localhost:8080/"
        },
        "id": "RIKs3PNz2ZVU",
        "outputId": "55e26d4b-dea7-4d99-fbf9-ea766c1dbc59"
      },
      "execution_count": 14,
      "outputs": [
        {
          "output_type": "stream",
          "name": "stdout",
          "text": [
            "📌 Attendees:\n",
            "- Carol Fletcher\n",
            "- Peter Morgan\n",
            "- Frank Maffer\n",
            "- Mike Reinhardt\n",
            "- Trudy Finch\n",
            "\n",
            "💬 Key Points:\n",
            "- Introduction of new team member Trudy Finch\n",
            "- Purchase approval for cheaper option with quality and guarantee assurance\n",
            "- Production figures update: up by 2% on product streams 1 and 2, down by 0.5% on product stream 3\n",
            "- Recruitment programme summary: 10 new hires, 9 completed probation\n",
            "- Discussion on Alpha system implementation: phased rollout vs. swift implementation\n",
            "- Training programme for Alpha system\n",
            "- Internet usage policy during lunch breaks\n",
            "- Charity cycle ride involvement\n",
            "\n",
            "✅ Action Items:\n",
            "- {'owner': 'Peter Morgan', 'task': 'Purchase cheaper option with quality and guarantee assurance', 'deadline': 'Not specified'}\n",
            "- {'owner': 'Mike Reinhardt', 'task': 'Update on production figures for last quarter', 'deadline': 'Not specified'}\n",
            "- {'owner': 'Trudy Finch', 'task': 'Summarize recent recruitment programme', 'deadline': 'Not specified'}\n",
            "- {'owner': 'HR', 'task': 'Develop a training calendar and communicate to managers', 'deadline': 'Not specified'}\n",
            "- {'owner': 'Peter Morgan', 'task': 'Take the role of involvement in the charity cycle ride', 'deadline': 'Not specified'}\n",
            "\n",
            "📎 Decisions:\n",
            "- Approval for Peter Morgan to purchase cheaper option with quality and guarantee assurance\n",
            "- Decision to review advertising methods based on successful recruitment from radio ads\n",
            "- Decision to implement a phased rollout for the Alpha system to check for faults and maintain service levels\n",
            "- Decision to develop a training day and train the trainers for the Alpha system\n",
            "- Decision to allow 20 minutes per day during lunch breaks for internet usage with clear penalties for misuse\n"
          ]
        }
      ]
    },
    {
      "cell_type": "markdown",
      "source": [
        "**Conclusion**"
      ],
      "metadata": {
        "id": "IvwzADp-KAM0"
      }
    },
    {
      "cell_type": "markdown",
      "source": [
        "The AI agent successfully summarized the meeting audio by transcribing it using Whisper, understanding the content through LLMs (like Mistral), and producing a structured summary including Attendees, Key Points, Action Items, and Decisions Made."
      ],
      "metadata": {
        "id": "ufUeoQu0KDUo"
      }
    },
    {
      "cell_type": "code",
      "source": [],
      "metadata": {
        "id": "HIlTQgQR2ZYY"
      },
      "execution_count": null,
      "outputs": []
    },
    {
      "cell_type": "code",
      "source": [],
      "metadata": {
        "id": "kZCtpmMG2Zbd"
      },
      "execution_count": null,
      "outputs": []
    },
    {
      "cell_type": "code",
      "source": [],
      "metadata": {
        "id": "03TVkpya2Zec"
      },
      "execution_count": null,
      "outputs": []
    },
    {
      "cell_type": "code",
      "source": [],
      "metadata": {
        "id": "bzboRzl42Zhd"
      },
      "execution_count": null,
      "outputs": []
    },
    {
      "cell_type": "code",
      "source": [],
      "metadata": {
        "id": "Me4wECrC2Zkg"
      },
      "execution_count": null,
      "outputs": []
    },
    {
      "cell_type": "code",
      "source": [],
      "metadata": {
        "id": "J2aQ2LOf2Zm8"
      },
      "execution_count": null,
      "outputs": []
    }
  ]
}